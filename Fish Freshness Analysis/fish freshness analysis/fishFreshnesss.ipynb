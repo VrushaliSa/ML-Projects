{
 "cells": [
  {
   "cell_type": "code",
   "execution_count": 1,
   "metadata": {},
   "outputs": [],
   "source": [
    "from keras.layers import Input, Lambda, Dense, Flatten\n",
    "from keras.models import Model\n",
    "from keras.applications.vgg16 import VGG16\n",
    "from keras.applications.vgg16 import preprocess_input\n",
    "from keras.preprocessing import image\n",
    "from keras.preprocessing.image import ImageDataGenerator\n",
    "from keras.models import Sequential\n",
    "import numpy as np\n",
    "from glob import glob\n",
    "import matplotlib.pyplot as plt\n",
    "\n",
    "IMAGE_SIZE = [224, 224]\n",
    "\n",
    "train_path = 'D:\\\\fish freshness\\\\dataset\\\\train'\n",
    "valid_path = 'D:\\\\fish freshness\\\\dataset\\\\test'\n",
    "\n",
    "vgg = VGG16(input_shape=IMAGE_SIZE + [3], weights='imagenet', include_top=False)\n",
    "for layer in vgg.layers:\n",
    "    layer.trainable = False\n",
    "    \n",
    "\n",
    "categories = ['stale','fresh']\n",
    "#glob('D:\\\\fishes\\\\train\\\\*')\n",
    "\n",
    "\n",
    "x = Flatten()(vgg.output)\n",
    "\n",
    "prediction = Dense(len(categories), activation='softmax')(x)\n",
    "\n",
    "# create a model object\n",
    "model = Model(inputs=vgg.input, outputs=prediction)\n",
    "\n",
    "\n",
    "model.compile(\n",
    "  loss='categorical_crossentropy',\n",
    "  optimizer='adam',\n",
    "  metrics=['accuracy']\n",
    ")"
   ]
  },
  {
   "cell_type": "code",
   "execution_count": 24,
   "metadata": {},
   "outputs": [
    {
     "name": "stdout",
     "output_type": "stream",
     "text": [
      "Found 160 images belonging to 2 classes.\n",
      "Found 40 images belonging to 2 classes.\n",
      "Epoch 1/10\n",
      "40/40 [==============================] - 78s 2s/step - loss: 0.8111 - accuracy: 0.6548 - val_loss: 0.2100 - val_accuracy: 0.9250\n",
      "Epoch 2/10\n",
      "40/40 [==============================] - 71s 2s/step - loss: 0.1520 - accuracy: 0.9584 - val_loss: 0.1330 - val_accuracy: 0.9250\n",
      "Epoch 3/10\n",
      "40/40 [==============================] - 70s 2s/step - loss: 0.0083 - accuracy: 1.0000 - val_loss: 0.1031 - val_accuracy: 0.9250\n",
      "Epoch 4/10\n",
      "40/40 [==============================] - 70s 2s/step - loss: 0.0061 - accuracy: 1.0000 - val_loss: 0.0680 - val_accuracy: 0.9750\n",
      "Epoch 5/10\n",
      "40/40 [==============================] - 70s 2s/step - loss: 0.0048 - accuracy: 1.0000 - val_loss: 0.1771 - val_accuracy: 0.9250\n",
      "Epoch 6/10\n",
      "40/40 [==============================] - 72s 2s/step - loss: 0.0055 - accuracy: 1.0000 - val_loss: 0.2022 - val_accuracy: 0.9250\n",
      "Epoch 7/10\n",
      "40/40 [==============================] - 79s 2s/step - loss: 0.0026 - accuracy: 1.0000 - val_loss: 0.0782 - val_accuracy: 0.9500\n",
      "Epoch 8/10\n",
      "40/40 [==============================] - 70s 2s/step - loss: 0.0017 - accuracy: 1.0000 - val_loss: 0.1022 - val_accuracy: 0.9250\n",
      "Epoch 9/10\n",
      "40/40 [==============================] - 72s 2s/step - loss: 0.0014 - accuracy: 1.0000 - val_loss: 0.1221 - val_accuracy: 0.9250\n",
      "Epoch 10/10\n",
      "40/40 [==============================] - 71s 2s/step - loss: 0.0011 - accuracy: 1.0000 - val_loss: 0.1227 - val_accuracy: 0.9250\n"
     ]
    },
    {
     "data": {
      "text/plain": [
       "<tensorflow.python.keras.callbacks.History at 0xa3b587bc10>"
      ]
     },
     "execution_count": 24,
     "metadata": {},
     "output_type": "execute_result"
    }
   ],
   "source": [
    "data_gen_train = ImageDataGenerator(rescale=1/255.)\n",
    "\n",
    "data_gen_valid = ImageDataGenerator(rescale=1/255.)\n",
    "\n",
    "\n",
    "train_generator = data_gen_train.flow_from_directory(train_path, target_size=(224,224), batch_size=4, class_mode=\"categorical\")\n",
    "\n",
    "valid_generator = data_gen_valid.flow_from_directory(valid_path, target_size=(224,224), batch_size=4, class_mode=\"categorical\")\n",
    "\n",
    "model.fit(train_generator, epochs=10, validation_data=valid_generator)"
   ]
  },
  {
   "cell_type": "code",
   "execution_count": 1,
   "metadata": {},
   "outputs": [
    {
     "name": "stdout",
     "output_type": "stream",
     "text": [
      "Loaded model from disk\n"
     ]
    }
   ],
   "source": [
    "import numpy as np\n",
    "from keras.models import load_model\n",
    "import cv2\n",
    "from keras.preprocessing import image\n",
    "from keras.applications.vgg16 import preprocess_input\n",
    "import operator\n",
    "\n",
    "\n",
    "loaded_model = load_model(\"fishmodel.h5\")\n",
    "print(\"Loaded model from disk\")\n"
   ]
  },
  {
   "cell_type": "code",
   "execution_count": 27,
   "metadata": {},
   "outputs": [
    {
     "name": "stdout",
     "output_type": "stream",
     "text": [
      "Input-image shows fresh fish\n"
     ]
    }
   ],
   "source": [
    "\n",
    "# Category dictionary\n",
    "categories = {0:'stale', 1: 'fresh'}\n",
    "\n",
    "img=image.load_img(\"C:\\\\Users\\\\S\\\\Desktop\\\\fresh.jpeg\",target_size=(224,224))\n",
    "\n",
    "x=image.img_to_array(img)\n",
    "x=np.expand_dims(x,axis=0)\n",
    "img_data=preprocess_input(x)  \n",
    "\n",
    "result = loaded_model.predict(preprocess_input(x)  )\n",
    "prediction = {'stale': result[0][0], \n",
    "              'fresh': result[0][1], \n",
    "             }\n",
    "    # Sorting based on top prediction\n",
    "prediction = sorted(prediction.items(), key=operator.itemgetter(1))\n",
    "    \n",
    "    # Displaying the predictions\n",
    "print(\"Input-image shows\",prediction[0][0] ,\"fish\")    \n",
    "    \n",
    "    "
   ]
  },
  {
   "cell_type": "code",
   "execution_count": null,
   "metadata": {},
   "outputs": [],
   "source": []
  }
 ],
 "metadata": {
  "kernelspec": {
   "display_name": "Python 3",
   "language": "python",
   "name": "python3"
  },
  "language_info": {
   "codemirror_mode": {
    "name": "ipython",
    "version": 3
   },
   "file_extension": ".py",
   "mimetype": "text/x-python",
   "name": "python",
   "nbconvert_exporter": "python",
   "pygments_lexer": "ipython3",
   "version": "3.8.5"
  }
 },
 "nbformat": 4,
 "nbformat_minor": 2
}
