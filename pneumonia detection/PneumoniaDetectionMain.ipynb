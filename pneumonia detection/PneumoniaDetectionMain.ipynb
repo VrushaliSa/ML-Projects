{
 "cells": [
  {
   "cell_type": "code",
   "execution_count": null,
   "metadata": {},
   "outputs": [],
   "source": [
    "from keras.layers import Input, Lambda, Dense, Flatten\n",
    "from keras.models import Model\n",
    "from keras.applications.vgg19 import VGG19\n",
    "from keras.applications.vgg19 import preprocess_input\n",
    "from keras.preprocessing import image\n",
    "from keras.preprocessing.image import ImageDataGenerator\n",
    "from keras.models import Sequential\n",
    "import numpy as np\n",
    "import matplotlib.pyplot as plt"
   ]
  },
  {
   "cell_type": "code",
   "execution_count": null,
   "metadata": {},
   "outputs": [],
   "source": [
    "IMAGE_SIZE = [224, 224]\n",
    "\n",
    "train_path = 'D:\\\\PneumoniaDetection\\\\chest_xray\\\\train'\n",
    "valid_path = 'D:\\\\PneumoniaDetection\\\\chest_xray\\\\test'\n"
   ]
  },
  {
   "cell_type": "code",
   "execution_count": null,
   "metadata": {},
   "outputs": [],
   "source": [
    "vgg = VGG19(input_shape=IMAGE_SIZE + [3], weights='imagenet', include_top=False)\n",
    "for layer in vgg.layers:\n",
    "    layer.trainable = False"
   ]
  },
  {
   "cell_type": "code",
   "execution_count": null,
   "metadata": {},
   "outputs": [],
   "source": [
    "\n",
    "cat =['normal','pneumonia']\n"
   ]
  },
  {
   "cell_type": "code",
   "execution_count": null,
   "metadata": {},
   "outputs": [],
   "source": [
    "x = Flatten()(vgg.output)\n"
   ]
  },
  {
   "cell_type": "code",
   "execution_count": null,
   "metadata": {},
   "outputs": [],
   "source": [
    "prediction = Dense(len(cat), activation='softmax')(x)\n",
    "\n",
    "# create a model object\n",
    "model = Model(inputs=vgg.input, outputs=prediction)\n"
   ]
  },
  {
   "cell_type": "code",
   "execution_count": null,
   "metadata": {},
   "outputs": [],
   "source": [
    "model.compile(\n",
    "  loss='categorical_crossentropy',\n",
    "  optimizer='adam',\n",
    "  metrics=['accuracy']\n",
    ")"
   ]
  },
  {
   "cell_type": "code",
   "execution_count": null,
   "metadata": {},
   "outputs": [],
   "source": [
    "data_gen_train = ImageDataGenerator(rescale=1/255)\n",
    "\n",
    "data_gen_valid = ImageDataGenerator(rescale=1/255)\n",
    "\n",
    "train_generator = data_gen_train.flow_from_directory(train_path, target_size=(224,224), batch_size=5, class_mode=\"categorical\")\n",
    "\n",
    "valid_generator = data_gen_valid.flow_from_directory(valid_path, target_size=(224,224), batch_size=5, class_mode=\"categorical\")\n",
    "\n",
    "r=model.fit(train_generator, epochs=10, validation_data=valid_generator)"
   ]
  },
  {
   "cell_type": "code",
   "execution_count": null,
   "metadata": {},
   "outputs": [],
   "source": [
    "import tensorflow as tf\n",
    "\n",
    "from keras.models import load_model\n",
    "\n",
    "model.save('pneumomain.h5')\n"
   ]
  },
  {
   "cell_type": "code",
   "execution_count": 5,
   "metadata": {},
   "outputs": [
    {
     "name": "stdout",
     "output_type": "stream",
     "text": [
      "Loaded model from disk\n",
      "Person is affected by Pneumonia\n"
     ]
    }
   ],
   "source": [
    "import numpy as np\n",
    "from keras.models import load_model\n",
    "import operator\n",
    "import sys,os\n",
    "from keras.preprocessing import image\n",
    "from keras.applications.vgg16 import preprocess_input\n",
    "\n",
    "loaded_model = load_model(\"pneumomain.h5\")\n",
    "\n",
    "print(\"Loaded model from disk\")\n",
    "\n",
    "\n",
    "# Category dictionary\n",
    "categories = {0:'pneumonia', 1: 'normal'}\n",
    "#img=image.load_img(\"D:\\\\PneumoniaDetection\\\\chest_xray\\\\chest_xray\\\\val\\\\NORMAL\\\\NORMAL2-IM-1427-0001.jpeg\",target_size=(224,224))\n",
    "img=image.load_img(\"D:\\\\PneumoniaDetection\\\\chest_xray\\\\chest_xray\\\\val\\\\PNEUMONIA\\\\person1946_bacteria_4874.jpeg\",target_size=(224,224))\n",
    "\n",
    "x=image.img_to_array(img)\n",
    "x=np.expand_dims(x,axis=0)\n",
    "img_data=preprocess_input(x)  \n",
    "\n",
    "result = loaded_model.predict(preprocess_input(x)  )\n",
    "prediction = {'pneumonia': result[0][0], \n",
    "              'normal': result[0][1], \n",
    "             }\n",
    "    # Sorting based on top prediction\n",
    "prediction = sorted(prediction.items(), key=operator.itemgetter(1))\n",
    "    \n",
    "    # Displaying the predictions\n",
    "if(prediction[0][0]==\"normal\"):    \n",
    "    print(\"Person is not affected by Pneumonia \")    \n",
    "else:\n",
    "    print(\"Person is affected by Pneumonia\") \n"
   ]
  },
  {
   "cell_type": "code",
   "execution_count": null,
   "metadata": {},
   "outputs": [],
   "source": []
  }
 ],
 "metadata": {
  "kernelspec": {
   "display_name": "Python 3",
   "language": "python",
   "name": "python3"
  },
  "language_info": {
   "codemirror_mode": {
    "name": "ipython",
    "version": 3
   },
   "file_extension": ".py",
   "mimetype": "text/x-python",
   "name": "python",
   "nbconvert_exporter": "python",
   "pygments_lexer": "ipython3",
   "version": "3.8.5"
  }
 },
 "nbformat": 4,
 "nbformat_minor": 2
}
